{
 "cells": [
  {
   "cell_type": "markdown",
   "metadata": {},
   "source": [
    "# Two Nucleon Scattering #\n",
    "\n",
    "Consider two nucleons each of mass $m=938$ MeV/$c^2$\n",
    "interacting via a central potential given by\n",
    "\n",
    "$$\n",
    "V(r) = \n",
    "\\begin{cases}\n",
    "              -V_0\\, \\quad\\quad           & \\text{for }                r \\leq R \\,  \\\\\n",
    "{\\color{white}-}0 \\, \\quad\\quad           & \\text{otherwise }\\,  \\\\\n",
    "\\end{cases}\n",
    "$$\n",
    "\n",
    "where $V_0$ is positive and $R=1.45$ fm."
   ]
  },
  {
   "cell_type": "code",
   "execution_count": 22,
   "metadata": {},
   "outputs": [],
   "source": [
    "import numpy as np\n",
    "from scipy import special as sp\n",
    "import matplotlib.pyplot as plt"
   ]
  },
  {
   "cell_type": "markdown",
   "metadata": {},
   "source": [
    "## Numerov's algorithm ##\n",
    "\n",
    "We seek the solution, $u(r)=r\\,R(r)$, of the radial equation\n",
    "\\begin{equation}\n",
    " -\\frac{\\hbar^2}{2\\,\\mu}u^{\\prime\\prime}(r) +V(r)\\,u(r) +\\frac{\\ell(\\ell+1)}{r^2}=E\\,u(r)\\, ,\n",
    "\\end{equation}\n",
    "where \n",
    "\\begin{eqnarray}\n",
    " E&=&\\frac{\\hbar^2\\,k^2}{2\\,\\mu}\\, , \\quad {\\rm and}\\quad \\quad  \\mu=\\frac{m}{2} \\, .\n",
    "\\end{eqnarray}\n",
    "We define\n",
    "\\begin{equation}\n",
    " v(r)=\\frac{2\\,\\mu}{\\hbar^2}\\,V(r) \\, ,\n",
    "\\end{equation}\n",
    "and rewrite the equation above  as\n",
    "\\begin{eqnarray}\n",
    "&& u^{\\prime\\prime}(r) +\\left[k^2 - v(r)\\,u(r) -\\frac{\\ell(\\ell+1)}{r^2}\\right]\\,u(r)=0\\, ,\\nonumber \n",
    "\\end{eqnarray}\n",
    "or\n",
    "\\begin{eqnarray}\n",
    "&& u^{\\prime\\prime}(r) + K(r) u(r)=0 \\, ,\n",
    "\\end{eqnarray}\n",
    "with \n",
    "\\begin{equation}\n",
    " K(r)=\\frac{2\\,\\mu}{\\hbar^2}\\left[E-V(r)\\right] - \\frac{\\ell(\\ell+1)}{r^2} \\, .\n",
    "\\end{equation}\n",
    "\n",
    "As $r\\rightarrow 0$, $u(r)\\rightarrow r^{(\\ell+1)}$. We use two grid points \n",
    "close to zero *e.g.*, $r_1=h$ and $r_2=2\\times h$, where $h$ is the \n",
    "step in $r$), and the solution calculated in these points, that is \n",
    "$u_1=u(r_1)=h^{\\ell+1}$ and $u_2=u(r_2)=(2\\times h)^{\\ell+1}$, to start building the\n",
    "solution outwards using the Numerov's method. \n",
    "\n",
    "The subsequent $u_i$'s calculated at $r_i$'s are obtained using the following\n",
    "algorithm\n",
    "\\begin{equation}\n",
    "u_{i+1}\\left(1+\\frac{h^2}{12}K_{i+1} \\right) -u_i\\,\\left(2-\\frac{5\\,h^2}{6}K_i\\right)+\n",
    "u_{i-1}\\left(1+\\frac{h^2}{12}K_{i-1} \\right) +O(h^6)=0 \\nonumber \\, . \n",
    "\\end{equation}\n",
    " \n",
    "You will need the physical constant $\\hbar\\,c = 197.326980$ MeV fm."
   ]
  },
  {
   "cell_type": "code",
   "execution_count": 2,
   "metadata": {},
   "outputs": [],
   "source": [
    "#Lets define some common variables\n",
    "mu = 938/2 #MeV/c^2\n",
    "hbarc = 197.326980 #MeV fm"
   ]
  },
  {
   "cell_type": "code",
   "execution_count": 68,
   "metadata": {
    "scrolled": true
   },
   "outputs": [
    {
     "data": {
      "text/plain": [
       "[<matplotlib.lines.Line2D at 0x2580f48f390>]"
      ]
     },
     "execution_count": 68,
     "metadata": {},
     "output_type": "execute_result"
    },
    {
     "data": {
      "image/png": "[encoded data removed]",
      "text/plain": [
       "<Figure size 432x288 with 1 Axes>"
      ]
     },
     "metadata": {
      "needs_background": "light"
     },
     "output_type": "display_data"
    }
   ],
   "source": [
    "def numerovWF(E,V0,R,l,n,Rmax):\n",
    "    '''Uses Numerov's algorithm to solve the radial equation and get the wavefunction for a nucleon \n",
    "    with energy E, scattered off of a potential V0. l is the angular momentum of the partial wave\n",
    "    under consideration.\n",
    "    n=number of points\n",
    "    R=radius of potential\n",
    "    Rmax=max integration point'''\n",
    "\n",
    "    h = Rmax/n\n",
    "\n",
    "    #Set up array for wavefuntion\n",
    "    wavefunc = np.zeros(n)\n",
    "    r = np.arange(h, Rmax+h, h)\n",
    "    V = np.zeros_like(r)\n",
    "\n",
    "    for i in range(len(V)):\n",
    "        if r[i] <= R:\n",
    "            V[i] = V0\n",
    "\n",
    "    K = 2*mu/hbarc**2*(E*np.ones_like(r) - V) - l*(l+1)/r**2\n",
    "\n",
    "    #solve approximation for first two steps r0 and r1\n",
    "    wavefunc[0] = r[0]**(l+1)\n",
    "    wavefunc[1] = r[1]**(l+1)\n",
    "\n",
    "    #loop over the rest of the wavefunction calculating r_i+1\n",
    "    for i in range(2,n):\n",
    "        wavefunc[i] = 1/(1+h**2/12*K[i])*(wavefunc[i-1]*(2-5*h**2*K[i-1]/6) - wavefunc[i-2]*(1+h**2*K[i-2]/12))\n",
    "        \n",
    "    return wavefunc\n",
    "\n",
    "\n",
    "E = 40\n",
    "V0 = -20\n",
    "R = 1.45\n",
    "l = 0\n",
    "n = 10000\n",
    "Rmax = 20\n",
    "\n",
    "h = Rmax/n \n",
    "r = np.arange(h, Rmax+h, h)\n",
    "\n",
    "wavefunc = numerovWF(E, V0, R, l, n, Rmax)\n",
    "plt.plot(r, wavefunc/r)"
   ]
  },
  {
   "cell_type": "code",
   "execution_count": 54,
   "metadata": {},
   "outputs": [
    {
     "name": "stdout",
     "output_type": "stream",
     "text": [
      "0.9816234972270493\n"
     ]
    },
    {
     "data": {
      "image/png": "[encoded data removed]",
      "text/plain": [
       "<Figure size 432x288 with 1 Axes>"
      ]
     },
     "metadata": {
      "needs_background": "light"
     },
     "output_type": "display_data"
    }
   ],
   "source": [
    "k = np.sqrt(2*mu*E/hbarc**2)\n",
    "spbes = sp.spherical_jn(0,k*r)\n",
    "\n",
    "print(k)\n",
    "plt.plot(r,np.sin(k*r)/(k*r))\n",
    "plt.plot(r,spbes)\n",
    "plt.show()"
   ]
  },
  {
   "cell_type": "code",
   "execution_count": 81,
   "metadata": {},
   "outputs": [
    {
     "data": {
      "image/png": "[encoded data removed]",
      "text/plain": [
       "<Figure size 432x288 with 1 Axes>"
      ]
     },
     "metadata": {
      "needs_background": "light"
     },
     "output_type": "display_data"
    }
   ],
   "source": [
    "def phaseshift(wavefunc,E,l,n,Rmax):\n",
    "    '''Get the phaseshift from a scattered wave'''\n",
    "    h = Rmax/n\n",
    "    r1 = Rmax - h\n",
    "    r2 = Rmax\n",
    "    \n",
    "    #get wave momentum\n",
    "    k = np.sqrt(2*mu*E/hbarc**2)\n",
    "    alpha = (wavefunc[len(wavefunc)-2]/r1)/(wavefunc[len(wavefunc)-1]/r2)\n",
    "    tandelta =(sp.spherical_jn(l,k*r1) - alpha*sp.spherical_jn(l,k*r2))/ \\\n",
    "                (sp.spherical_yn(l,k*r1) - alpha*sp.spherical_yn(l,k*r2))\n",
    "    phaseshift = np.arctan(tandelta)\n",
    "    \n",
    "    return phaseshift\n",
    "\n",
    "phases = []\n",
    "energies = np.arange(1,200,5)\n",
    "for e in energies:\n",
    "    wavefunc = numerovWF(e, V0, R, l, n, Rmax)\n",
    "    ps = phaseshift(wavefunc, e, l, n, Rmax)\n",
    "    phases.append(ps)\n",
    "\n",
    "plt.plot(energies, phases)\n",
    "plt.show()"
   ]
  },
  {
   "cell_type": "code",
   "execution_count": 5,
   "metadata": {},
   "outputs": [],
   "source": [
    "def xsection( What_is_needed    ):\n",
    "    ''' '''\n",
    "    pass"
   ]
  },
  {
   "cell_type": "code",
   "execution_count": 6,
   "metadata": {},
   "outputs": [],
   "source": [
    "def analyticalswave( What_is_needed   ):\n",
    "    pass"
   ]
  },
  {
   "cell_type": "code",
   "execution_count": null,
   "metadata": {},
   "outputs": [],
   "source": []
  },
  {
   "cell_type": "code",
   "execution_count": null,
   "metadata": {},
   "outputs": [],
   "source": []
  },
  {
   "cell_type": "code",
   "execution_count": 7,
   "metadata": {},
   "outputs": [
    {
     "name": "stdout",
     "output_type": "stream",
     "text": [
      "3.141592653589793\n"
     ]
    },
    {
     "data": {
      "image/png": "[encoded data removed]",
      "text/plain": [
       "<Figure size 432x288 with 1 Axes>"
      ]
     },
     "metadata": {
      "needs_background": "light"
     },
     "output_type": "display_data"
    }
   ],
   "source": [
    "#Test python to make sure it works\n",
    "print(np.pi)\n",
    "plt.plot(range(5),range(5))\n",
    "plt.show()"
   ]
  },
  {
   "cell_type": "code",
   "execution_count": null,
   "metadata": {},
   "outputs": [],
   "source": []
  }
 ],
 "metadata": {
  "kernelspec": {
   "display_name": "Python 3",
   "language": "python",
   "name": "python3"
  },
  "language_info": {
   "codemirror_mode": {
    "name": "ipython",
    "version": 3
   },
   "file_extension": ".py",
   "mimetype": "text/x-python",
   "name": "python",
   "nbconvert_exporter": "python",
   "pygments_lexer": "ipython3",
   "version": "3.7.1"
  }
 },
 "nbformat": 4,
 "nbformat_minor": 2
}
